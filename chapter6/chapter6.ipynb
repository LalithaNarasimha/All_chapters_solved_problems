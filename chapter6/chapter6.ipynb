{
 "metadata": {
  "language_info": {
   "codemirror_mode": {
    "name": "ipython",
    "version": 3
   },
   "file_extension": ".py",
   "mimetype": "text/x-python",
   "name": "python",
   "nbconvert_exporter": "python",
   "pygments_lexer": "ipython3",
   "version": "3.8.5-final"
  },
  "orig_nbformat": 2,
  "kernelspec": {
   "name": "python_defaultSpec_1607176809342",
   "display_name": "Python 3.8.5 64-bit"
  }
 },
 "nbformat": 4,
 "nbformat_minor": 2,
 "cells": [
  {
   "cell_type": "code",
   "execution_count": 14,
   "metadata": {
    "tags": []
   },
   "outputs": [
    {
     "output_type": "stream",
     "name": "stdout",
     "text": "Monday 74\nTue 89\nWed 78\nWed 89\nWed 90\n{'Monday': 74, 'Tue': 89, 'Wed': 90}\nMonday Tue Wed Thur Friday [66, 70, 74]\n[56, 89, 65]\n[78, 89, 90]\n[67, 68, 59]\n[10, 20, 30]\n"
    },
    {
     "output_type": "execute_result",
     "data": {
      "text/plain": "[('Monday', [66, 70, 74]),\n ('Tue', [56, 89, 65]),\n ('Wed', [78, 89, 90]),\n ('Thur', [67, 68, 59]),\n ('Friday', [10, 20, 30])]"
     },
     "metadata": {},
     "execution_count": 14
    }
   ],
   "source": [
    "#6.3\n",
    "temperatures = {\n",
    "    'Monday': [66,70,74],\n",
    "    'Tue': [56,89,65],\n",
    "    'Wed': [78,89,90],\n",
    "    'Thur':[67,68,59]\n",
    "}\n",
    "\n",
    "new_dict = {}\n",
    "for k,v in temperatures.items():\n",
    "    for val in v:\n",
    "        if val > 70:\n",
    "            new_dict[k] = val\n",
    "            print(k,val)\n",
    "    #print(f'{k}:{sum(v)/len(v):.2f} ')\n",
    "print(new_dict)\n",
    "\n",
    "d = {'Friday':[10,20,30]}\n",
    "temperatures.update(d)\n",
    "for k in temperatures.keys():\n",
    "    print(k,end=' ')\n",
    "\n",
    "for v in temperatures.values():\n",
    "    print(v)\n",
    "#display in lists\n",
    "list(temperatures.keys())\n",
    "list(temperatures.values())\n",
    "list(temperatures.items())\n"
   ]
  },
  {
   "cell_type": "code",
   "execution_count": null,
   "metadata": {},
   "outputs": [],
   "source": []
  },
  {
   "cell_type": "code",
   "execution_count": 14,
   "metadata": {},
   "outputs": [
    {
     "output_type": "execute_result",
     "data": {
      "text/plain": "{1, 2, 3, 4, 8, 64, 189}"
     },
     "metadata": {},
     "execution_count": 14
    }
   ],
   "source": [
    "#6.4\n",
    "#Union operator\n",
    "{1,2,3,4,64} | {1,2, 4, 8,189}"
   ]
  },
  {
   "cell_type": "code",
   "execution_count": 15,
   "metadata": {},
   "outputs": [
    {
     "output_type": "execute_result",
     "data": {
      "text/plain": "{1, 2, 4}"
     },
     "metadata": {},
     "execution_count": 15
    }
   ],
   "source": [
    "#6.4\n",
    "#Intersection operator\n",
    "{1,2,3,4,64} & {1,2, 4, 8,189}\n"
   ]
  },
  {
   "cell_type": "code",
   "execution_count": 16,
   "metadata": {},
   "outputs": [
    {
     "output_type": "execute_result",
     "data": {
      "text/plain": "{3, 64}"
     },
     "metadata": {},
     "execution_count": 16
    }
   ],
   "source": [
    "#6.4\n",
    "#Difference operator\n",
    "{1,2,3,4,64} - {1,2, 4, 8,189}"
   ]
  },
  {
   "cell_type": "code",
   "execution_count": 17,
   "metadata": {},
   "outputs": [
    {
     "output_type": "execute_result",
     "data": {
      "text/plain": "{3, 8, 64, 189}"
     },
     "metadata": {},
     "execution_count": 17
    }
   ],
   "source": [
    "#6.4\n",
    "#symmetric Difference operator\n",
    "{1,2,3,4,64} ^ {1,2, 4, 8,189}"
   ]
  },
  {
   "cell_type": "code",
   "execution_count": 18,
   "metadata": {},
   "outputs": [
    {
     "output_type": "execute_result",
     "data": {
      "text/plain": "False"
     },
     "metadata": {},
     "execution_count": 18
    }
   ],
   "source": [
    "{1,2,3,4,64} in {1,2, 4, 8,189}"
   ]
  },
  {
   "cell_type": "code",
   "execution_count": 14,
   "metadata": {
    "tags": []
   },
   "outputs": [
    {
     "output_type": "stream",
     "name": "stdout",
     "text": "of:2 \nthe:6 \n:2 \nand:4 \nare:4 \nis:5 \nAmericas:3 \non:2 \n83\n"
    }
   ],
   "source": [
    "#6.5\n",
    "#counting duplicate words\n",
    "import re\n",
    "def remove_punctuation(p_word):\n",
    "    re_exp = re.compile('[^a-zA-Z0-9]')\n",
    "    return re_exp.sub('',p_word)\n",
    "\n",
    "d_list = ['Madam Speaker, Mr. Vice President, members of Congress, the First Lady of the United States — (applause) — and my fellow citizens:Three years ago, we launched the great American comeback.  Tonight, I stand before you to share the incredible results.  Jobs are booming, incomes are soaring, poverty is plummeting, crime is falling, confidence is surging, and our country is thriving and highly respected again.  (Applause.)  America’s enemies are on the run, America’s fortunes are on the rise, and America’s future is blazing bright.']\n",
    "\n",
    "d_duplicate = {}\n",
    "text_content = []\n",
    "total_words = 0\n",
    "for sentence in d_list:\n",
    "    text_content = sentence.split()\n",
    "    for word in text_content: \n",
    "        word = remove_punctuation(word)\n",
    "        if word in d_duplicate:\n",
    "            d_duplicate[word] += 1\n",
    "        else:\n",
    "            d_duplicate[word] = 1\n",
    "\n",
    "for k,v in d_duplicate.items():\n",
    "    total_words += v\n",
    "    if v > 1:\n",
    "        print(f'{k}:{v} ')\n",
    "            \n",
    "print(total_words)\n"
   ]
  },
  {
   "cell_type": "code",
   "execution_count": 25,
   "metadata": {
    "tags": []
   },
   "outputs": [
    {
     "output_type": "stream",
     "name": "stdout",
     "text": "the word count in the sentence : {'this': 1, 'is': 2, 'a': 1, 'sample': 2, 'text': 2, 'with': 2, 'several': 1, 'wordsthis': 1, 'more': 1, 'some': 1, 'different': 1, 'words': 1} \nthe duplicates in the text:\nis          :2 \nsample      :2 \ntext        :2 \nwith        :2 \n"
    }
   ],
   "source": [
    "#6.5\n",
    "#counting duplicate words\n",
    "text = ('this is a sample text with several words' 'this is more sample text with some different words')\n",
    "\n",
    "\n",
    "word_count = {}\n",
    "for word in text.split():\n",
    "    if word in word_count:\n",
    "        word_count[word] += 1\n",
    "    else:\n",
    "        word_count[word] = 1\n",
    "print(f' the word count in the sentence : {word_count} ')\n",
    "\n",
    "#display the duplicate words:\n",
    "print(f'the duplicates in the text:')\n",
    "for k,v in word_count.items():\n",
    "    if v > 1:\n",
    "        print(f'{k:<12}:{v} ')\n",
    "\n",
    "\n",
    "\n"
   ]
  },
  {
   "cell_type": "code",
   "execution_count": 28,
   "metadata": {},
   "outputs": [
    {
     "output_type": "execute_result",
     "data": {
      "text/plain": "{'a',\n 'different',\n 'is',\n 'more',\n 'sample',\n 'several',\n 'some',\n 'text',\n 'this',\n 'with',\n 'words'}"
     },
     "metadata": {},
     "execution_count": 28
    }
   ],
   "source": [
    "#6.6\n",
    "#duplicate word removal\n",
    "def remove_duplicate(p_text):\n",
    "    word_list = []\n",
    "    for sentence in p_text:\n",
    "        text_list = sentence.split()\n",
    "        for word in text_list:\n",
    "            word_list.append(word)\n",
    "\n",
    "    return word_list\n",
    "\n",
    "unique_list = []\n",
    "text = ['this is a sample text with several words ' \n",
    "'this is more sample text with some different words']\n",
    "unique_list = remove_duplicate(text)\n",
    "set(unique_list)\n"
   ]
  },
  {
   "cell_type": "code",
   "execution_count": 31,
   "metadata": {
    "tags": []
   },
   "outputs": [
    {
     "output_type": "stream",
     "name": "stdout",
     "text": "a           4 \nd           3 \ne           10 \nf           2 \nh           4 \ni           7 \nl           3 \nm           4 \nn           1 \no           4 \np           2 \nr           5 \ns           10 \nt           9 \nv           1 \nw           4 \nx           2 \n"
    }
   ],
   "source": [
    "#6.7\n",
    "#character counts\n",
    "\n",
    "text = ('this is a sample text with several words ' 'this is more sample text with some different words')\n",
    "char_count = {}\n",
    "for word in text.split():\n",
    "    for letter in word:\n",
    "        if letter in char_count:\n",
    "            char_count[letter] += 1\n",
    "        else:\n",
    "            char_count[letter] = 1\n",
    "\n",
    "for letter, count in sorted(char_count.items()):\n",
    "    print(f'{letter:<12}{count} ')\n"
   ]
  },
  {
   "cell_type": "code",
   "execution_count": 27,
   "metadata": {
    "tags": []
   },
   "outputs": [
    {
     "output_type": "stream",
     "name": "stdout",
     "text": "a           1 \ndifferent   1 \nis          2 \nmore        1 \nsample      2 \nseveral     1 \nsome        1 \ntext        2 \nthis        2 \nwith        2 \nwords       2 \n"
    }
   ],
   "source": [
    "#using counter method in collections\n",
    "\n",
    "from collections import Counter\n",
    "\n",
    "text = ('this is a sample text with several words ' \n",
    "        'this is more sample text with some different words')\n",
    "\n",
    "counter = Counter(text.split())  #counter is dictionary\n",
    "\n",
    "for word, count in sorted(counter.items()):\n",
    "    print(f'{word:<12}{count} ')\n"
   ]
  },
  {
   "cell_type": "code",
   "execution_count": 33,
   "metadata": {
    "tags": []
   },
   "outputs": [
    {
     "output_type": "stream",
     "name": "stdout",
     "text": "a           4 \nd           3 \ne           10 \nf           2 \nh           4 \ni           7 \nl           3 \nm           4 \nn           1 \no           4 \np           2 \nr           5 \ns           10 \nt           9 \nv           1 \nw           4 \nx           2 \n"
    }
   ],
   "source": [
    "#character counts using counter method\n",
    "from collections import Counter\n",
    "\n",
    "text = ('this is a sample text with several words ' 'this is more sample text with some different words')\n",
    "char_count = {}\n",
    "for word in text.split():\n",
    "    char_count = Counter(char_count) + Counter(word)\n",
    "\n",
    "for letter, count in sorted(char_count.items()):\n",
    "    print(f'{letter:<12}{count} ')"
   ]
  },
  {
   "cell_type": "code",
   "execution_count": 53,
   "metadata": {
    "tags": []
   },
   "outputs": [
    {
     "output_type": "stream",
     "name": "stdout",
     "text": "Canada         :ca \nUnited states  :us \nMexico         :mx \n"
    },
    {
     "output_type": "execute_result",
     "data": {
      "text/plain": "{'ca': 'Canada', 'us': 'United states', 'mx': 'Mexico', 'se': 'Sweden'}"
     },
     "metadata": {},
     "execution_count": 53
    }
   ],
   "source": [
    "#6.9 Dictionary Manipulations\n",
    "\n",
    "tlds = {'Canada': 'ca', 'United states':'us','Mexico':'mx'}\n",
    "\n",
    "#a.Check whether dictionary contains the key 'canada'\n",
    "'Canada' in tlds\n",
    "#b.Check whether dictionary contains the key 'France'\n",
    "'France' in tlds\n",
    "#c. Iterate through the key-value pair and display them in two column format\n",
    "for name, val in tlds.items():\n",
    "    print(f'{name:<15}:{val} ')\n",
    "\n",
    "#d.Add key value pair 'Sweden' and 'sw'\n",
    "tlds['Sweden'] = 'sw'\n",
    "tlds\n",
    "\n",
    "#e.Update the value for the key 'Sweden' to 'se'\n",
    "tlds['Sweden'] = 'se'\n",
    "tlds\n",
    "\n",
    "#f. use dictionary comprehensions to reverse the keys and values\n",
    "{val:name for name,val in tlds.items()}\n",
    "\n",
    "\n"
   ]
  },
  {
   "cell_type": "code",
   "execution_count": 61,
   "metadata": {
    "tags": []
   },
   "outputs": [
    {
     "output_type": "stream",
     "name": "stdout",
     "text": "{1: 10, 2: 20, 3: 30, 4: 40, 5: 50, 6: 60}\n"
    }
   ],
   "source": [
    "#Write a Python script to concatenate following dictionaries to create a new one.\n",
    "\n",
    "dic_1={1:10, 2:20}\n",
    "dic_2={3:30, 4:40}\n",
    "dic_3={5:50,6:60}\n",
    "\n",
    "#method1\n",
    "f_dic = {**dic_1,**dic_2,**dic_3}\n",
    "f_dic\n",
    "\n",
    "#method2\n",
    "dic4 = {}\n",
    "for d in [dic1,dic2,dic3]:\n",
    "    dic4.update(d)\n",
    "\n",
    "print(dic4)\n",
    "\n"
   ]
  },
  {
   "cell_type": "code",
   "execution_count": 63,
   "metadata": {},
   "outputs": [
    {
     "output_type": "execute_result",
     "data": {
      "text/plain": "{1: 1,\n 2: 4,\n 3: 9,\n 4: 16,\n 5: 25,\n 6: 36,\n 7: 49,\n 8: 64,\n 9: 81,\n 10: 100,\n 11: 121,\n 12: 144,\n 13: 169,\n 14: 196,\n 15: 225}"
     },
     "metadata": {},
     "execution_count": 63
    }
   ],
   "source": [
    "#Write a Python script to generate and print a dictionary that contains a number (between 1 and n) in the\n",
    "\n",
    "{num:num**2 for num in range(1,16)}"
   ]
  },
  {
   "cell_type": "code",
   "execution_count": 64,
   "metadata": {
    "tags": []
   },
   "outputs": [
    {
     "output_type": "stream",
     "name": "stdout",
     "text": "220\n"
    }
   ],
   "source": [
    "#Write a Python program to sum all the items in a dictionary.\n",
    "\n",
    "my_dict = {'d1':100,'d2':200,'d3':-80}\n",
    "total = 0\n",
    "for val in my_dict.values():\n",
    "    total = total + val\n",
    "\n",
    "print(total)"
   ]
  },
  {
   "cell_type": "code",
   "execution_count": 65,
   "metadata": {
    "tags": []
   },
   "outputs": [
    {
     "output_type": "stream",
     "name": "stdout",
     "text": "-1600000\n"
    }
   ],
   "source": [
    "#Write a Python program to multiply all the items in a dictionary\n",
    "my_dict = {'d1':100,'d2':200,'d3':-80}\n",
    "product = 1\n",
    "for val in my_dict.values():\n",
    "    product = product * val\n",
    "\n",
    "print(product)\n"
   ]
  },
  {
   "cell_type": "code",
   "execution_count": 66,
   "metadata": {
    "tags": []
   },
   "outputs": [
    {
     "output_type": "stream",
     "name": "stdout",
     "text": "{'a': 1, 'b': 2, 'c': 3, 'd': 4}\n{'b': 2, 'c': 3, 'd': 4}\n"
    }
   ],
   "source": [
    "#Write a Python program to remove a key from a dictionary.\n",
    "myDict = {'a':1,'b':2,'c':3,'d':4}\n",
    "print(myDict)\n",
    "if 'a' in myDict: \n",
    "    del myDict['a']\n",
    "print(myDict)"
   ]
  },
  {
   "cell_type": "code",
   "execution_count": 5,
   "metadata": {},
   "outputs": [
    {
     "output_type": "execute_result",
     "data": {
      "text/plain": "{'deliver': ('bring', 'take', 'convey'),\n 'communicate': ('transfer', 'spread', 'carry'),\n 'commute': ('Travel to and from', 'shorten', 'travel back and forth')}"
     },
     "metadata": {},
     "execution_count": 5
    }
   ],
   "source": [
    "#Write a Python program to map keys and values into a dictionary.\n",
    "year = {}\n",
    "keys = ['deliver','communicate','commute']\n",
    "values = [('bring','take','convey'),('transfer','spread','carry'),('Travel to and from','shorten','travel back and forth')]\n",
    "year = dict(zip(keys,values))\n",
    "year\n"
   ]
  },
  {
   "cell_type": "code",
   "execution_count": 74,
   "metadata": {
    "tags": []
   },
   "outputs": [
    {
     "output_type": "stream",
     "name": "stdout",
     "text": "Maximum value :4 \nMinimum value :4 \n"
    }
   ],
   "source": [
    "#Get the maximum and minimum value in a dictionary\n",
    "myDict = {'a':1,'b':2,'c':3,'d':4}\n",
    "max_val = max(myDict.values())\n",
    "print(f'Maximum value :{max_val} ')\n",
    "print(f'Minimum value :{max(myDict.values())} ')\n"
   ]
  },
  {
   "cell_type": "code",
   "execution_count": 76,
   "metadata": {
    "tags": []
   },
   "outputs": [
    {
     "output_type": "stream",
     "name": "stdout",
     "text": "Original List:  [{'V': 'S001'}, {'V': 'S002'}, {'VI': 'S001'}, {'VI': 'S005'}, {'VII': 'S005'}, {'V': 'S009'}, {'VIII': 'S007'}]\nUnique Values: ,['S001', 'S002', 'S005', 'S007', 'S009'] \n"
    }
   ],
   "source": [
    "#Write a Python program to print all unique values in a dictionary.\n",
    "L = [{\"V\":\"S001\"}, {\"V\": \"S002\"}, {\"VI\": \"S001\"}, {\"VI\": \"S005\"}, {\"VII\":\"S005\"}, {\"V\":\"S009\"},{\"VIII\":\"S007\"}]\n",
    "\n",
    "print(\"Original List: \",L)\n",
    "\n",
    "u_value = set( val for dic in L for val in dic.values())\n",
    "print(f'Unique Values: ,{sorted(u_value)} ')\n",
    "\n"
   ]
  },
  {
   "cell_type": "code",
   "execution_count": 85,
   "metadata": {
    "tags": []
   },
   "outputs": [
    {
     "output_type": "stream",
     "name": "stdout",
     "text": "{'af': 'afrikaans', 'sq': 'albanian', 'am': 'amharic', 'ar': 'arabic', 'hy': 'armenian', 'az': 'azerbaijani', 'eu': 'basque', 'be': 'belarusian', 'bn': 'bengali', 'bs': 'bosnian', 'bg': 'bulgarian', 'ca': 'catalan', 'ceb': 'cebuano', 'ny': 'chichewa', 'zh-cn': 'chinese (simplified)', 'zh-tw': 'chinese (traditional)', 'co': 'corsican', 'hr': 'croatian', 'cs': 'czech', 'da': 'danish', 'nl': 'dutch', 'en': 'english', 'eo': 'esperanto', 'et': 'estonian', 'tl': 'filipino', 'fi': 'finnish', 'fr': 'french', 'fy': 'frisian', 'gl': 'galician', 'ka': 'georgian', 'de': 'german', 'el': 'greek', 'gu': 'gujarati', 'ht': 'haitian creole', 'ha': 'hausa', 'haw': 'hawaiian', 'iw': 'hebrew', 'he': 'hebrew', 'hi': 'hindi', 'hmn': 'hmong', 'hu': 'hungarian', 'is': 'icelandic', 'ig': 'igbo', 'id': 'indonesian', 'ga': 'irish', 'it': 'italian', 'ja': 'japanese', 'jw': 'javanese', 'kn': 'kannada', 'kk': 'kazakh', 'km': 'khmer', 'ko': 'korean', 'ku': 'kurdish (kurmanji)', 'ky': 'kyrgyz', 'lo': 'lao', 'la': 'latin', 'lv': 'latvian', 'lt': 'lithuanian', 'lb': 'luxembourgish', 'mk': 'macedonian', 'mg': 'malagasy', 'ms': 'malay', 'ml': 'malayalam', 'mt': 'maltese', 'mi': 'maori', 'mr': 'marathi', 'mn': 'mongolian', 'my': 'myanmar (burmese)', 'ne': 'nepali', 'no': 'norwegian', 'or': 'odia', 'ps': 'pashto', 'fa': 'persian', 'pl': 'polish', 'pt': 'portuguese', 'pa': 'punjabi', 'ro': 'romanian', 'ru': 'russian', 'sm': 'samoan', 'gd': 'scots gaelic', 'sr': 'serbian', 'st': 'sesotho', 'sn': 'shona', 'sd': 'sindhi', 'si': 'sinhala', 'sk': 'slovak', 'sl': 'slovenian', 'so': 'somali', 'es': 'spanish', 'su': 'sundanese', 'sw': 'swahili', 'sv': 'swedish', 'tg': 'tajik', 'ta': 'tamil', 'te': 'telugu', 'th': 'thai', 'tr': 'turkish', 'uk': 'ukrainian', 'ur': 'urdu', 'ug': 'uyghur', 'uz': 'uzbek', 'vi': 'vietnamese', 'cy': 'welsh', 'xh': 'xhosa', 'yi': 'yiddish', 'yo': 'yoruba', 'zu': 'zulu'}\n"
    }
   ],
   "source": [
    "import googletrans\n",
    "print(googletrans.LANGUAGES)"
   ]
  },
  {
   "cell_type": "code",
   "execution_count": 84,
   "metadata": {},
   "outputs": [
    {
     "output_type": "error",
     "ename": "AttributeError",
     "evalue": "'NoneType' object has no attribute 'group'",
     "traceback": [
      "\u001b[0;31m---------------------------------------------------------------------------\u001b[0m",
      "\u001b[0;31mAttributeError\u001b[0m                            Traceback (most recent call last)",
      "\u001b[0;32m<ipython-input-84-aaafb15e16de>\u001b[0m in \u001b[0;36m<module>\u001b[0;34m\u001b[0m\n\u001b[1;32m      2\u001b[0m \u001b[0;34m\u001b[0m\u001b[0m\n\u001b[1;32m      3\u001b[0m \u001b[0mtranslator\u001b[0m \u001b[0;34m=\u001b[0m \u001b[0mTranslator\u001b[0m\u001b[0;34m(\u001b[0m\u001b[0;34m)\u001b[0m\u001b[0;34m\u001b[0m\u001b[0;34m\u001b[0m\u001b[0m\n\u001b[0;32m----> 4\u001b[0;31m \u001b[0mresult\u001b[0m \u001b[0;34m=\u001b[0m \u001b[0mtranslator\u001b[0m\u001b[0;34m.\u001b[0m\u001b[0mtranslate\u001b[0m\u001b[0;34m(\u001b[0m\u001b[0;34m'Mikä on nimesi'\u001b[0m\u001b[0;34m,\u001b[0m \u001b[0msrc\u001b[0m\u001b[0;34m=\u001b[0m\u001b[0;34m'fi'\u001b[0m\u001b[0;34m,\u001b[0m \u001b[0mdest\u001b[0m\u001b[0;34m=\u001b[0m\u001b[0;34m'fr'\u001b[0m\u001b[0;34m)\u001b[0m\u001b[0;34m\u001b[0m\u001b[0;34m\u001b[0m\u001b[0m\n\u001b[0m\u001b[1;32m      5\u001b[0m \u001b[0;34m\u001b[0m\u001b[0m\n\u001b[1;32m      6\u001b[0m \u001b[0mprint\u001b[0m\u001b[0;34m(\u001b[0m\u001b[0mresult\u001b[0m\u001b[0;34m.\u001b[0m\u001b[0msrc\u001b[0m\u001b[0;34m)\u001b[0m\u001b[0;34m\u001b[0m\u001b[0;34m\u001b[0m\u001b[0m\n",
      "\u001b[0;32m/Library/Frameworks/Python.framework/Versions/3.8/lib/python3.8/site-packages/googletrans/client.py\u001b[0m in \u001b[0;36mtranslate\u001b[0;34m(self, text, dest, src, **kwargs)\u001b[0m\n\u001b[1;32m    180\u001b[0m \u001b[0;34m\u001b[0m\u001b[0m\n\u001b[1;32m    181\u001b[0m         \u001b[0morigin\u001b[0m \u001b[0;34m=\u001b[0m \u001b[0mtext\u001b[0m\u001b[0;34m\u001b[0m\u001b[0;34m\u001b[0m\u001b[0m\n\u001b[0;32m--> 182\u001b[0;31m         \u001b[0mdata\u001b[0m \u001b[0;34m=\u001b[0m \u001b[0mself\u001b[0m\u001b[0;34m.\u001b[0m\u001b[0m_translate\u001b[0m\u001b[0;34m(\u001b[0m\u001b[0mtext\u001b[0m\u001b[0;34m,\u001b[0m \u001b[0mdest\u001b[0m\u001b[0;34m,\u001b[0m \u001b[0msrc\u001b[0m\u001b[0;34m,\u001b[0m \u001b[0mkwargs\u001b[0m\u001b[0;34m)\u001b[0m\u001b[0;34m\u001b[0m\u001b[0;34m\u001b[0m\u001b[0m\n\u001b[0m\u001b[1;32m    183\u001b[0m \u001b[0;34m\u001b[0m\u001b[0m\n\u001b[1;32m    184\u001b[0m         \u001b[0;31m# this code will be updated when the format is changed.\u001b[0m\u001b[0;34m\u001b[0m\u001b[0;34m\u001b[0m\u001b[0;34m\u001b[0m\u001b[0m\n",
      "\u001b[0;32m/Library/Frameworks/Python.framework/Versions/3.8/lib/python3.8/site-packages/googletrans/client.py\u001b[0m in \u001b[0;36m_translate\u001b[0;34m(self, text, dest, src, override)\u001b[0m\n\u001b[1;32m     76\u001b[0m \u001b[0;34m\u001b[0m\u001b[0m\n\u001b[1;32m     77\u001b[0m     \u001b[0;32mdef\u001b[0m \u001b[0m_translate\u001b[0m\u001b[0;34m(\u001b[0m\u001b[0mself\u001b[0m\u001b[0;34m,\u001b[0m \u001b[0mtext\u001b[0m\u001b[0;34m,\u001b[0m \u001b[0mdest\u001b[0m\u001b[0;34m,\u001b[0m \u001b[0msrc\u001b[0m\u001b[0;34m,\u001b[0m \u001b[0moverride\u001b[0m\u001b[0;34m)\u001b[0m\u001b[0;34m:\u001b[0m\u001b[0;34m\u001b[0m\u001b[0;34m\u001b[0m\u001b[0m\n\u001b[0;32m---> 78\u001b[0;31m         \u001b[0mtoken\u001b[0m \u001b[0;34m=\u001b[0m \u001b[0mself\u001b[0m\u001b[0;34m.\u001b[0m\u001b[0mtoken_acquirer\u001b[0m\u001b[0;34m.\u001b[0m\u001b[0mdo\u001b[0m\u001b[0;34m(\u001b[0m\u001b[0mtext\u001b[0m\u001b[0;34m)\u001b[0m\u001b[0;34m\u001b[0m\u001b[0;34m\u001b[0m\u001b[0m\n\u001b[0m\u001b[1;32m     79\u001b[0m         params = utils.build_params(query=text, src=src, dest=dest,\n\u001b[1;32m     80\u001b[0m                                     token=token, override=override)\n",
      "\u001b[0;32m/Library/Frameworks/Python.framework/Versions/3.8/lib/python3.8/site-packages/googletrans/gtoken.py\u001b[0m in \u001b[0;36mdo\u001b[0;34m(self, text)\u001b[0m\n\u001b[1;32m    192\u001b[0m \u001b[0;34m\u001b[0m\u001b[0m\n\u001b[1;32m    193\u001b[0m     \u001b[0;32mdef\u001b[0m \u001b[0mdo\u001b[0m\u001b[0;34m(\u001b[0m\u001b[0mself\u001b[0m\u001b[0;34m,\u001b[0m \u001b[0mtext\u001b[0m\u001b[0;34m)\u001b[0m\u001b[0;34m:\u001b[0m\u001b[0;34m\u001b[0m\u001b[0;34m\u001b[0m\u001b[0m\n\u001b[0;32m--> 194\u001b[0;31m         \u001b[0mself\u001b[0m\u001b[0;34m.\u001b[0m\u001b[0m_update\u001b[0m\u001b[0;34m(\u001b[0m\u001b[0;34m)\u001b[0m\u001b[0;34m\u001b[0m\u001b[0;34m\u001b[0m\u001b[0m\n\u001b[0m\u001b[1;32m    195\u001b[0m         \u001b[0mtk\u001b[0m \u001b[0;34m=\u001b[0m \u001b[0mself\u001b[0m\u001b[0;34m.\u001b[0m\u001b[0macquire\u001b[0m\u001b[0;34m(\u001b[0m\u001b[0mtext\u001b[0m\u001b[0;34m)\u001b[0m\u001b[0;34m\u001b[0m\u001b[0;34m\u001b[0m\u001b[0m\n\u001b[1;32m    196\u001b[0m         \u001b[0;32mreturn\u001b[0m \u001b[0mtk\u001b[0m\u001b[0;34m\u001b[0m\u001b[0;34m\u001b[0m\u001b[0m\n",
      "\u001b[0;32m/Library/Frameworks/Python.framework/Versions/3.8/lib/python3.8/site-packages/googletrans/gtoken.py\u001b[0m in \u001b[0;36m_update\u001b[0;34m(self)\u001b[0m\n\u001b[1;32m     60\u001b[0m \u001b[0;34m\u001b[0m\u001b[0m\n\u001b[1;32m     61\u001b[0m         \u001b[0;31m# this will be the same as python code after stripping out a reserved word 'var'\u001b[0m\u001b[0;34m\u001b[0m\u001b[0;34m\u001b[0m\u001b[0;34m\u001b[0m\u001b[0m\n\u001b[0;32m---> 62\u001b[0;31m         \u001b[0mcode\u001b[0m \u001b[0;34m=\u001b[0m \u001b[0mself\u001b[0m\u001b[0;34m.\u001b[0m\u001b[0mRE_TKK\u001b[0m\u001b[0;34m.\u001b[0m\u001b[0msearch\u001b[0m\u001b[0;34m(\u001b[0m\u001b[0mr\u001b[0m\u001b[0;34m.\u001b[0m\u001b[0mtext\u001b[0m\u001b[0;34m)\u001b[0m\u001b[0;34m.\u001b[0m\u001b[0mgroup\u001b[0m\u001b[0;34m(\u001b[0m\u001b[0;36m1\u001b[0m\u001b[0;34m)\u001b[0m\u001b[0;34m.\u001b[0m\u001b[0mreplace\u001b[0m\u001b[0;34m(\u001b[0m\u001b[0;34m'var '\u001b[0m\u001b[0;34m,\u001b[0m \u001b[0;34m''\u001b[0m\u001b[0;34m)\u001b[0m\u001b[0;34m\u001b[0m\u001b[0;34m\u001b[0m\u001b[0m\n\u001b[0m\u001b[1;32m     63\u001b[0m         \u001b[0;31m# unescape special ascii characters such like a \\x3d(=)\u001b[0m\u001b[0;34m\u001b[0m\u001b[0;34m\u001b[0m\u001b[0;34m\u001b[0m\u001b[0m\n\u001b[1;32m     64\u001b[0m         \u001b[0mcode\u001b[0m \u001b[0;34m=\u001b[0m \u001b[0mcode\u001b[0m\u001b[0;34m.\u001b[0m\u001b[0mencode\u001b[0m\u001b[0;34m(\u001b[0m\u001b[0;34m)\u001b[0m\u001b[0;34m.\u001b[0m\u001b[0mdecode\u001b[0m\u001b[0;34m(\u001b[0m\u001b[0;34m'unicode-escape'\u001b[0m\u001b[0;34m)\u001b[0m\u001b[0;34m\u001b[0m\u001b[0;34m\u001b[0m\u001b[0m\n",
      "\u001b[0;31mAttributeError\u001b[0m: 'NoneType' object has no attribute 'group'"
     ]
    }
   ],
   "source": [
    "from googletrans import Translator\n",
    "\n",
    "translator = Translator()\n",
    "result = translator.translate('Mikä on nimesi', src='fi', dest='fr')\n",
    "\n",
    "print(result.src)\n",
    "print(result.dest)\n",
    "print(result.text)"
   ]
  },
  {
   "cell_type": "code",
   "execution_count": 7,
   "metadata": {},
   "outputs": [
    {
     "output_type": "execute_result",
     "data": {
      "text/plain": "{'deliver': ('bring', 'take', 'convey'),\n 'communicate': ('transfer', 'spread', 'carry'),\n 'commute': ('Travel to and from', 'shorten', 'travel back and forth')}"
     },
     "metadata": {},
     "execution_count": 7
    }
   ],
   "source": [
    "#synonnyms dictionary\n",
    "synonnym_dict = {}\n",
    "keys = ['deliver','communicate','commute']\n",
    "values = [('bring','take','convey'),('transfer','spread','carry'),('Travel to and from','shorten','travel back and forth')]\n",
    "synonnym_dict = dict(zip(keys,values))\n",
    "synonnym_dict"
   ]
  },
  {
   "cell_type": "code",
   "execution_count": 1,
   "metadata": {},
   "outputs": [
    {
     "output_type": "display_data",
     "data": {
      "text/plain": "<Figure size 432x288 with 0 Axes>"
     },
     "metadata": {}
    }
   ],
   "source": [
    "#6.15\n",
    "#dynamic visualization of rolling two dice\n",
    "from matplotlib import animation\n",
    "import matplotlib.pyplot as plt\n",
    "import random\n",
    "import seaborn as sns\n",
    "import sys\n",
    "\n",
    "NUMBER_OF_FRAMES = 600\n",
    "ROLLS_PER_FRAME = 10\n",
    "\n",
    "# this function is called by animation to render each frame\n",
    "# the first argument frame_number is provided by animation\n",
    "def update(frame_number, faces, frequencies):\n",
    "    for _ in range(ROLLS_PER_FRAME):  # roll the dice for the specified times\n",
    "        dice_key = random.randrange(1, 3) - 1\n",
    "        frequencies[dice_key] += 1\n",
    "\n",
    "    plt.cla() # clear old content\n",
    "    axes = sns.barplot(x=faces, y=frequencies, palette='bright')\n",
    "    total_rolls = sum(frequencies)\n",
    "    title = f'Dice frequencies for {total_rolls:,} rolls'\n",
    "    axes.set_title(title)\n",
    "    axes.set(xlabel='Dice Value', ylabel='Frequency')\n",
    "\n",
    "    # make some space for text above the bar top\n",
    "    axes.set_ylim(top = max(frequencies) * 1.10)\n",
    "\n",
    "    # show frequency and % for each bar\n",
    "    for bar, frequency in zip(axes.patches, frequencies):\n",
    "        text_x = bar.get_x() + bar.get_width() / 2.0\n",
    "        text_y = bar.get_height()\n",
    "        text = f'{frequency:,}\\n{frequency / total_rolls:.3%}'\n",
    "        axes.text(text_x, text_y, text, fontsize=11, ha='center', va='bottom')\n",
    "\n",
    "sns.set_style('whitegrid')\n",
    "figure = plt.figure('Rolling a Sixe-sided Dice')\n",
    "values = list(range(1, 7))\n",
    "frequencies = [0] * 6\n",
    "\n",
    "die_animation = animation.FuncAnimation(\n",
    "    figure, update, repeat=False, frames=NUMBER_OF_FRAMES, interval=33,\n",
    "    fargs=(values, frequencies)\n",
    ")\n",
    "\n",
    "plt.show()"
   ]
  },
  {
   "cell_type": "code",
   "execution_count": null,
   "metadata": {},
   "outputs": [],
   "source": []
  }
 ]
}