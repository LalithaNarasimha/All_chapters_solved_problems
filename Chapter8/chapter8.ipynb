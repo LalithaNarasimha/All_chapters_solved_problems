{
 "metadata": {
  "language_info": {
   "codemirror_mode": {
    "name": "ipython",
    "version": 3
   },
   "file_extension": ".py",
   "mimetype": "text/x-python",
   "name": "python",
   "nbconvert_exporter": "python",
   "pygments_lexer": "ipython3",
   "version": "3.8.5-final"
  },
  "orig_nbformat": 2,
  "kernelspec": {
   "name": "python_defaultSpec_1607181226233",
   "display_name": "Python 3.8.5 64-bit"
  }
 },
 "nbformat": 4,
 "nbformat_minor": 2,
 "cells": [
  {
   "cell_type": "code",
   "execution_count": null,
   "metadata": {},
   "outputs": [],
   "source": [
    "#chapter 8 - Strings"
   ]
  },
  {
   "cell_type": "code",
   "execution_count": 9,
   "metadata": {
    "tags": []
   },
   "outputs": [
    {
     "output_type": "stream",
     "name": "stdout",
     "text": "\nOriginal Number:  35.4\n*****35.40\nthe formatted number :*****35.40 \n"
    }
   ],
   "source": [
    "#8.1\n",
    "#check protection \n",
    "\n",
    "\n",
    "in_num = float(input('Enter the cheque amount '))\n",
    "#display the amount in checque protected form\n",
    "print(\"\\nOriginal Number: \", in_num)\n",
    "print('{:*>10.2f}'.format(in_num))\n",
    "print(f'the formatted number :{in_num:*>10.2f} ')\n"
   ]
  },
  {
   "cell_type": "code",
   "execution_count": 10,
   "metadata": {
    "tags": []
   },
   "outputs": [
    {
     "output_type": "stream",
     "name": "stdout",
     "text": "{'g': 2, 'o': 3, 'l': 1, 'e': 1, '.': 1, 'c': 1, 'm': 1}\n"
    }
   ],
   "source": [
    "#W3r- 2\n",
    "#Write a Python program to count the number of characters (character frequency) in a strin\n",
    "#input - google.com\n",
    "\n",
    "in_text = 'google.com'\n",
    "out_text = {}\n",
    "for letter in in_text:\n",
    "    if letter in out_text:\n",
    "        out_text[letter] += 1\n",
    "    else:\n",
    "        out_text[letter] = 1\n",
    "\n",
    "\n",
    "print(out_text)\n",
    "\n"
   ]
  },
  {
   "cell_type": "code",
   "execution_count": 151,
   "metadata": {
    "tags": []
   },
   "outputs": [
    {
     "output_type": "stream",
     "name": "stdout",
     "text": "w3ce\nw\nw3w3\n"
    }
   ],
   "source": [
    "#W3r- 3\n",
    "#Write a Python program to get a string made of the first 2 and the last 2 chars from a given a string. If the string length is less than 2, return instead of the empty string. Go to the editor\n",
    "#Sample String : 'w3resource'\n",
    "#Expected Result : 'w3ce'\n",
    "#Sample String : 'w3'\n",
    "#Expected Result : 'w3w3'\n",
    "#Sample String : ' w'\n",
    "#Expected Result : Empty String\n",
    "\n",
    "def string_both_ends(text):\n",
    "    if len(text) >= 2:\n",
    "        first_2 = text[0:2]\n",
    "        last_2 = text[-2:]\n",
    "        return first_2 + last_2\n",
    "    else:\n",
    "        return text\n",
    "\n",
    "print(string_both_ends('w3resource'))\n",
    "print(string_both_ends('w'))\n",
    "print(string_both_ends('w3'))"
   ]
  },
  {
   "cell_type": "code",
   "execution_count": 17,
   "metadata": {
    "tags": []
   },
   "outputs": [
    {
     "output_type": "stream",
     "name": "stdout",
     "text": "car hits dutifully. clueless\n"
    }
   ],
   "source": [
    "\n",
    "import random\n",
    "\n",
    "nouns = (\"puppy\", \"car\", \"rabbit\", \"girl\", \"monkey\")\n",
    "verbs = (\"runs\", \"hits\", \"jumps\", \"drives\", \"barfs\") \n",
    "adv = (\"crazily.\", \"dutifully.\", \"foolishly.\", \"merrily.\", \"occasionally.\")\n",
    "adj = (\"adorable\", \"clueless\", \"dirty\", \"odd\", \"stupid\")\n",
    "num = random.randrange(0,5)\n",
    "print(nouns[num] + ' ' + verbs[num] + ' ' + adv[num] + ' ' + adj[num])"
   ]
  },
  {
   "cell_type": "code",
   "execution_count": 33,
   "metadata": {
    "tags": []
   },
   "outputs": [
    {
     "output_type": "stream",
     "name": "stdout",
     "text": "['A car created at a car.', 'The canada happened to the canada.', 'An table hits on an table.', 'An table hits on an table.', 'An rabbit did of an rabbit.', 'The puppy worked in the puppy.', 'The puppy worked in the puppy.', 'The canada happened to the canada.', 'An rabbit did of an rabbit.', 'An table hits on an table.', 'An rabbit did of an rabbit.', 'A car created at a car.', 'A car created at a car.', 'An table hits on an table.', 'The puppy worked in the puppy.', 'The canada happened to the canada.', 'An rabbit did of an rabbit.', 'A car created at a car.', 'A car created at a car.', 'The canada happened to the canada.']\n"
    }
   ],
   "source": [
    "#8.2\n",
    "# create an array of strings having articles, noun , verb,preposition\n",
    "# generate a number in random\n",
    "#create a sentence by selecting a word in random from each array in the \n",
    "#following order : article, noun,verb,preposition, article and noun\n",
    "#as each word is picked, concatenate it to the previous words in the sentence\n",
    "#spaces should seperate the word\n",
    "#Sentence should start with capital letter and end with period\n",
    "#display 20 sentences\n",
    "\n",
    "\n",
    "import random\n",
    "\n",
    "article = ['the','a','an','the','an']\n",
    "noun = ['puppy','car','rabbit','canada','table']\n",
    "verb = ['worked','created','did','happened','hits']\n",
    "preposition = ['in','at','of','to','on']\n",
    "n = 0\n",
    "sentence_list = []\n",
    "\n",
    "while n < 20:\n",
    "    num = random.randrange(0,5)\n",
    "    sentence_order = (article[num],noun[num],verb[num],preposition[num],article        [num],noun[num]+'.')\n",
    "    sentence_line = ' '.join(sentence_order)\n",
    "    sentence_list.append(sentence_line.capitalize())\n",
    "    n = n + 1\n",
    "\n",
    "print(sentence_list)\n"
   ]
  },
  {
   "cell_type": "code",
   "execution_count": 152,
   "metadata": {
    "tags": []
   },
   "outputs": [
    {
     "output_type": "stream",
     "name": "stdout",
     "text": "SULBCay isay aay argeLay urbanay omprehensiveCay universityay inay aliforniaCay\n"
    }
   ],
   "source": [
    "#8.3 PIG LATIN\n",
    "#constants declarartion\n",
    "ay = 'ay'\n",
    "vowel = ('A','E','I','O','U')\n",
    "consonant = ('B','C','D','F','G','H','J','K','L','M','N','P','Q','R','S','T','V','W','X','Y','Z')\n",
    "\n",
    "\n",
    "#input\n",
    "text = 'CSULB is a large urban comprehensive university in California'\n",
    "text_list = text.split()\n",
    "pig_latin_sentence = '' #clear the sentence \n",
    "for word in text_list:\n",
    "    first_letter = word[0]\n",
    "    first_letter = first_letter.upper()\n",
    "    if first_letter in consonant:\n",
    "        remaining_letter = word[1:]\n",
    "        pig_latin = remaining_letter + first_letter + ay\n",
    "    elif first_letter in vowel:\n",
    "        pig_latin = word + ay\n",
    "    \n",
    "    pig_latin_sentence = pig_latin_sentence +' '+ pig_latin\n",
    "\n",
    "print(pig_latin_sentence)"
   ]
  },
  {
   "cell_type": "code",
   "execution_count": 92,
   "metadata": {
    "tags": []
   },
   "outputs": [
    {
     "output_type": "stream",
     "name": "stdout",
     "text": "$esta$t\nresta$t\n"
    }
   ],
   "source": [
    "#W3r- 4\n",
    "#Write a Python program to get a string from a given string where all occurrences of its first char have been changed to '$', except the first char itself. Go to the editor\n",
    "#Sample String : 'restart'\n",
    "#Expected Result : 'resta$t'\n",
    "\n",
    "def change_char(str1):\n",
    "    char = str1[0]\n",
    "    str1 = str1.replace(char,'$')\n",
    "    print(str1)\n",
    "    str1 = char + str1[1:]\n",
    "    return str1\n",
    "\n",
    "print(change_char('restart'))\n"
   ]
  },
  {
   "cell_type": "code",
   "execution_count": 62,
   "metadata": {
    "tags": []
   },
   "outputs": [
    {
     "output_type": "stream",
     "name": "stdout",
     "text": "the reversed list using slicing:California in university comprehensive urban large a is CSULB \nthe reversed list using method:California in university comprehensive urban large a is CSULB \n"
    }
   ],
   "source": [
    "#8.4\n",
    "#Revesing a string\n",
    "\n",
    "text = 'CSULB is a large urban comprehensive university in California'\n",
    "text_list = text.split()\n",
    "\n",
    "reversed_list = text_list[::-1]\n",
    "sentence = ' '.join(reversed_list)\n",
    "print(f'the reversed list using slicing:{sentence} ')\n",
    " \n",
    "text_list.reverse()\n",
    "print(f'the reversed list using method:{\" \".join(text_list)} ')\n",
    "\n",
    "\n",
    "    \n",
    "\n"
   ]
  },
  {
   "cell_type": "code",
   "execution_count": 96,
   "metadata": {
    "tags": []
   },
   "outputs": [
    {
     "output_type": "stream",
     "name": "stdout",
     "text": "at\n"
    }
   ],
   "source": [
    "#W3r - 6\n",
    "#Write a Python program to add 'ing' at the end of a given string (length should be at least 3). If the given string already ends with 'ing' then add 'ly' instead. If the string length of the given string is less than 3, leave it unchanged. Go to the editor\n",
    "#Sample String : 'abc'\n",
    "#Expected Result : 'abcing'\n",
    "#Sample String : 'string'\n",
    "#Expected Result : 'stringly'\n",
    "\n",
    "inp_str = 'string'\n",
    "\n",
    "if len(inp_str) >= 3:\n",
    "    if inp_str.endswith('ing'):\n",
    "       out_str = inp_str + 'ly'\n",
    "    else:\n",
    "        out_str = inp_str + 'ing'\n",
    "else:\n",
    "    out_str = inp_str\n",
    "\n",
    "print(out_str)\n",
    "\n",
    "\n",
    "\n"
   ]
  },
  {
   "cell_type": "code",
   "execution_count": 104,
   "metadata": {
    "tags": []
   },
   "outputs": [
    {
     "output_type": "stream",
     "name": "stdout",
     "text": "words starting with \"b\" is be \nwords starting with \"b\" is books \nwords ending with \"ed\" is managed \n"
    }
   ],
   "source": [
    "#8.5 and 8.6\n",
    "#Tokenizing and comparing strings\n",
    "# outputs only those words beginnig with letter 'b' and endswith letter 'ed'\n",
    "\n",
    "in_text = 'There are many useful functions and characters in the re library yet learning everything might be overwhelming The books author (Lee Vaughan) managed to create a Pig Latin generator'\n",
    "\n",
    "in_text_list = in_text.split()\n",
    "for word in in_text_list:\n",
    "    if word.startswith('b'):\n",
    "        print(f'words starting with \"b\" is {word} ')\n",
    "    if word.endswith('ed'):\n",
    "        print(f'words ending with \"ed\" is {word} ')"
   ]
  },
  {
   "cell_type": "code",
   "execution_count": 65,
   "metadata": {
    "tags": []
   },
   "outputs": [
    {
     "output_type": "stream",
     "name": "stdout",
     "text": "\u0000     \u0001     \u0002     \u0003     \u0004     \u0005     \u0006     \u0007         \t     \n     \u000e     \u000f     \u0010     \u0011     \u0012     \u0013     \u0014     \u0015     \u0016     \u0017     \u0018     \u0019     \u001a     \u001b     \u001c     \u001d     \u001e     \u001f           !     \"     #     $     %     &     '     (     )     *     +     ,     -     .     /     0     1     2     3     4     5     6     7     8     9     :     ;     <     =     >     ?     @     A     B     C     D     E     F     G     H     I     J     K     L     M     N     O     P     Q     R     S     T     U     V     W     X     Y     Z     [     \\     ]     ^     _     `     a     b     c     d     e     f     g     h     i     j     k     l     m     n     o     p     q     r     s     t     u     v     w     x     y     z     {     |     }     ~                                                                                                                                                                                ¡     ¢     £     ¤     ¥     ¦     §     ¨     ©     ª     «     ¬     ­     ®     ¯     °     ±     ²     ³     ´     µ     ¶     ·     ¸     ¹     º     »     ¼     ½     ¾     ¿     À     Á     Â     Ã     Ä     Å     Æ     Ç     È     É     Ê     Ë     Ì     Í     Î     Ï     Ð     Ñ     Ò     Ó     Ô     Õ     Ö     ×     Ø     Ù     Ú     Û     Ü     Ý     Þ     ß     à     á     â     ã     ä     å     æ     ç     è     é     ê     ë     ì     í     î     ï     ð     ñ     ò     ó     ô     õ     ö     ÷     ø     ù     ú     û     ü     ý     þ"
    }
   ],
   "source": [
    "#8.7\n",
    "#Converting integers to characters\n",
    "for i in range(0,255):\n",
    "    print(f'{i:>5c}',end=' ') "
   ]
  },
  {
   "cell_type": "code",
   "execution_count": 89,
   "metadata": {
    "tags": []
   },
   "outputs": [
    {
     "output_type": "stream",
     "name": "stdout",
     "text": "\\U0001F600\n\\U0001F600\n\\U0001F600\n\\U0001F600\n\\U0001F600\n\\U0001F600\n\\U0001F600\n\\U0001F600\n\\U0001F600\n\\U0001F600\n😆\n🤣\n"
    }
   ],
   "source": [
    "#8.8\n",
    "#converting integers to emojis\n",
    "# grinning face \n",
    "value = r'\\U0001F600'\n",
    "num = 600\n",
    "for i in range(num,num+10):\n",
    "    emoji = value \n",
    "    print(emoji) \n",
    "  \n",
    "# grinning squinting face \n",
    "print(\"\\U0001F606\") \n",
    "  \n",
    "# rolling on the floor laughing \n",
    "print(\"\\U0001F923\")\n"
   ]
  },
  {
   "cell_type": "code",
   "execution_count": 79,
   "metadata": {
    "tags": []
   },
   "outputs": [
    {
     "output_type": "stream",
     "name": "stdout",
     "text": "😀\n🙂\n😉\n"
    }
   ],
   "source": [
    "print(\"\\N{grinning face}\") \n",
    "  \n",
    "# slightly smiling face \n",
    "print(\"\\N{slightly smiling face}\") \n",
    "  \n",
    "# winking face \n",
    "print(\"\\N{winking face}\") "
   ]
  },
  {
   "cell_type": "code",
   "execution_count": null,
   "metadata": {},
   "outputs": [],
   "source": [
    "\n",
    "RegEx Special Sequences\n",
    "\\d               matches a single digit character [0-9]\n",
    "\\w               matches any alphabet, digit, or underscore\n",
    "\\s               matches a white space character (space, tab, enter) \n",
    "\n",
    "The negations of these sequences are also available by using the capital letter. For example, \\D is the negation of \\d.\n",
    "\n",
    "\n",
    "\n",
    "RegEx Meta Characters\n",
    ".                matches any character(except for newline character)\n",
    "^                the string starts with a character\n",
    "$                the string ends with a character\n",
    "*                zero or more occurrences \n",
    "+                one or more occurrences\n",
    "?                one or no occurrence \n",
    "{}               exactly the specified number of occurrences\n",
    "|                either or\n",
    "\n",
    "Examples:\n",
    "\"c.t\"            will match anything like \"cat\", \"c*t\", \"c1t\", etc\n",
    "\"^a\"             will match \"a\" from \"a cat\" but not \"eat a cake\"\n",
    "\"cat$\"           will match \"a cat\" but not \"cat party\"\n",
    "\"a*b\"            will match \"b\", \"ab\", \"aab\", \"aaab\", ...\n",
    "\"a+b\"            will match \"ab\", \"aab\", \"aaab\", ...\n",
    "\"a?b\"            will match \"b\" or \"ab\"\n",
    "\"a{1}b\"          will match \"ab\"\n",
    "\"a{1,3}b\"        will match \"ab\", \"aab\", or \"aaab\"\n",
    "\"cat|dog\"        will match \"cat\" or \"dog\"\n",
    "\n",
    "RegEx Sets\n",
    "[abcd]           matches either a, b, c or d\n",
    "[a-z0-9]         matches one of the characters from a-z or 0-9\n",
    "[\\w]             matches an alphabet, digit, or underscore\n",
    "\n",
    "The caret character(^) stands for except.\n",
    "[^\\d]            matches a character that is not a digit [0-9]\n",
    "\n",
    "\n",
    "RegEx Function\n",
    "\n",
    "findall()        Returns a list that contains all matches       \n",
    "search()         Returns a 'match object' if there is a match in the string\n",
    "split()          Returns a list of string that has been split at each match\n",
    "sub()            Replaces the matches with a string\n"
   ]
  },
  {
   "cell_type": "code",
   "execution_count": 90,
   "metadata": {},
   "outputs": [
    {
     "output_type": "execute_result",
     "data": {
      "text/plain": "'HelloWorld'"
     },
     "metadata": {},
     "execution_count": 90
    }
   ],
   "source": [
    "#8.13 \n",
    "#Regular expressions : condense spaces  to a single space\n",
    "\n",
    "import re\n",
    "re.sub(' ','','Hello World')\n"
   ]
  },
  {
   "cell_type": "code",
   "execution_count": 109,
   "metadata": {},
   "outputs": [
    {
     "output_type": "execute_result",
     "data": {
      "text/plain": "'No Match'"
     },
     "metadata": {},
     "execution_count": 109
    }
   ],
   "source": [
    "#examples relating to search function re.search()\n",
    "#Finding the first match anywhere in the string\n",
    "\n",
    "import re\n",
    "pattern = 'Python'\n",
    "result = re.search(pattern,'Python is fun')\n",
    "'match' if result else 'No match'\n",
    "\n",
    "result2 = re.search('fun!','Python is fun')\n",
    "result2.group() if result2 else 'No Match'"
   ]
  },
  {
   "cell_type": "code",
   "execution_count": 110,
   "metadata": {
    "tags": []
   },
   "outputs": [
    {
     "output_type": "stream",
     "name": "stdout",
     "text": "<re.Match object; span=(0, 3), match='SAM'>\n"
    }
   ],
   "source": [
    "##examples relating to search function re.search()\n",
    "#Ignoring case with optional flags keyword argument\n",
    "#through re.IGNORECASE can perform case insensitive search\n",
    "\n",
    "import re\n",
    "result3 = re.search('Sam','SAM WHITE',flags=re.IGNORECASE)\n",
    "print(result3)\n"
   ]
  },
  {
   "cell_type": "code",
   "execution_count": 153,
   "metadata": {
    "tags": []
   },
   "outputs": [
    {
     "output_type": "stream",
     "name": "stdout",
     "text": "<re.Match object; span=(0, 1), match='P'>\nNone\nNone\n<re.Match object; span=(10, 13), match='fun'>\n"
    }
   ],
   "source": [
    "# ^ metacharcter at the beginning of a regular expression(not inside the [] brackets) is an anchor indicating that the expression matches only the beginning of the string\n",
    "import re\n",
    "res1 = re.search('^P','Python is fun')\n",
    "print(res1)\n",
    "res2 = re.search('^fun','Python is fun')\n",
    "print(res2)\n",
    "\n",
    "# $ metacharcter at the end of a regular expression is an anchor indicating that the expression matches only the end of the string\n",
    "res3 = re.search('Python$','Python is fun')\n",
    "print(res3)\n",
    "res4 = re.search('fun$','Python is fun')\n",
    "print(res4)\n",
    "\n"
   ]
  },
  {
   "cell_type": "code",
   "execution_count": 141,
   "metadata": {
    "tags": []
   },
   "outputs": [
    {
     "output_type": "stream",
     "name": "stdout",
     "text": "For the word There the search is None \nFor the word are the search is None \nFor the word many the search is None \nFor the word useful the search is None \nFor the word functions the search is None \nFor the word and the search is None \nFor the word characters the search is None \nFor the word in the search is None \nFor the word the the search is None \nFor the word re the search is None \nFor the word library the search is None \nFor the word yet the search is None \nFor the word learning the search is None \nFor the word everything the search is None \nFor the word might the search is None \nFor the word be the search is <re.Match object; span=(0, 1), match='b'> \nFor the word overwhelming the search is None \nFor the word The the search is None \nFor the word books the search is <re.Match object; span=(0, 1), match='b'> \nFor the word author the search is None \nFor the word (Lee the search is None \nFor the word Vaughan) the search is None \nFor the word managed the search is None \nFor the word to the search is None \nFor the word create the search is None \nFor the word a the search is None \nFor the word Pig the search is None \nFor the word Latin the search is None \nFor the word generator the search is None \n"
    }
   ],
   "source": [
    "#8.14 - using Regular expressions\n",
    "#Tokenizing and comparing strings\n",
    "# outputs only those words beginnig with letter 'b' and endswith letter 'ed'\n",
    "import re\n",
    "in_text = 'There are many useful functions and characters in the re library yet learning everything might be overwhelming The books author (Lee Vaughan) managed to create a Pig Latin generator'\n",
    "\n",
    "in_text_list = in_text.split()\n",
    "for word in in_text_list:\n",
    "    result_start = re.search('^b',word)\n",
    "    print(f'For the word {word} the search is {result_start} ')\n",
    "\n",
    "   "
   ]
  },
  {
   "cell_type": "code",
   "execution_count": 118,
   "metadata": {
    "tags": []
   },
   "outputs": [
    {
     "output_type": "stream",
     "name": "stdout",
     "text": "For the word There the search is None \nFor the word are the search is None \nFor the word many the search is None \nFor the word useful the search is None \nFor the word functions the search is None \nFor the word and the search is None \nFor the word characters the search is None \nFor the word in the search is None \nFor the word the the search is None \nFor the word re the search is None \nFor the word library the search is None \nFor the word yet the search is None \nFor the word learning the search is None \nFor the word everything the search is None \nFor the word might the search is None \nFor the word be the search is None \nFor the word overwhelming the search is None \nFor the word The the search is None \nFor the word books the search is None \nFor the word author the search is None \nFor the word (Lee the search is None \nFor the word Vaughan) the search is None \nFor the word managed the search is <re.Match object; span=(5, 7), match='ed'> \nFor the word to the search is None \nFor the word create the search is None \nFor the word a the search is None \nFor the word Pig the search is None \nFor the word Latin the search is None \nFor the word generator the search is None \n"
    }
   ],
   "source": [
    "#8.14 - using Regular expressions\n",
    "#Tokenizing and comparing strings\n",
    "# outputs only those words endswith letter 'ed'\n",
    "import re\n",
    "in_text = 'There are many useful functions and characters in the re library yet learning everything might be overwhelming The books author (Lee Vaughan) managed to create a Pig Latin generator'\n",
    "\n",
    "in_text_list = in_text.split()\n",
    "for word in in_text_list:\n",
    "    result_end = re.search('ed$',word)\n",
    "    print(f'For the word {word} the search is {result_end} ')"
   ]
  },
  {
   "cell_type": "code",
   "execution_count": 154,
   "metadata": {
    "tags": []
   },
   "outputs": [
    {
     "output_type": "stream",
     "name": "stdout",
     "text": "number of digits: 2 \nwhite space count : 29 \ncharacter count : 153 \nwords count : 30 \n"
    }
   ],
   "source": [
    "#8.15 \n",
    "#Regular expressions : counting characters and words\n",
    "# Use reg-exp and the 'findall' function to count \n",
    "# the number of digits, \n",
    "# number of characters, \n",
    "# whitespace characters and \n",
    "# number of words in string\n",
    "\n",
    "import re\n",
    "in_text = 'There are many useful functions and characters in the re library yet learning everything might be overwhelming 90 The books author Lee Vaughan managed to create a Pig Latin generator'\n",
    "\n",
    "#'findall' function to count the number of digits\n",
    "num_count = []\n",
    "num_count = len(re.findall('[0-9]', in_text))\n",
    "print(f'number of digits: {num_count} ')\n",
    "\n",
    "#'findall' function to count the number of whitespace characters \n",
    "wh_sp_count = len(re.findall(' ', in_text))\n",
    "print(f'white space count : {wh_sp_count} ')\n",
    "\n",
    "#'findall' function to count the number of characters in a string\n",
    "char_count = len(re.findall('\\w', in_text))\n",
    "print(f'character count : {char_count} ')\n",
    "\n",
    "#'findall' function to count the number of words in a string\n",
    "in_text_list = in_text.split()\n",
    "word_count = len(re.findall(r'\\w+',in_text))\n",
    "print(f'words count : {word_count} ')\n"
   ]
  },
  {
   "cell_type": "code",
   "execution_count": 138,
   "metadata": {
    "tags": []
   },
   "outputs": [
    {
     "output_type": "stream",
     "name": "stdout",
     "text": "The original string is : Tutorials point is a learning platform\nThe number of words in string are : 6\n"
    }
   ],
   "source": [
    "import re\n",
    "test_string = \"Tutorials point is a learning platform\"\n",
    "# original string\n",
    "print (\"The original string is : \" + test_string)\n",
    "# using regex (findall()) function\n",
    "res = len(re.findall(r'\\w+', test_string))\n",
    "# total no of words\n",
    "print (\"The number of words in string are : \" + str(res))"
   ]
  },
  {
   "cell_type": "code",
   "execution_count": 148,
   "metadata": {},
   "outputs": [
    {
     "output_type": "execute_result",
     "data": {
      "text/plain": "<re.Match object; span=(2, 8), match='345678'>"
     },
     "metadata": {},
     "execution_count": 148
    }
   ],
   "source": [
    "#8.17\n",
    "#reg-exp matching numeric values\n",
    "\n",
    "number = ' +345678.00 '\n",
    "re.search('\\d+', number)"
   ]
  },
  {
   "cell_type": "code",
   "execution_count": null,
   "metadata": {},
   "outputs": [],
   "source": []
  }
 ]
}